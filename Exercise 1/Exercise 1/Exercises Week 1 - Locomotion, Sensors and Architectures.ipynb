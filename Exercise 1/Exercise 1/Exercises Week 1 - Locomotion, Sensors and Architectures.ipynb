{
 "cells": [
  {
   "cell_type": "markdown",
   "id": "233bd567",
   "metadata": {},
   "source": [
    "\n",
    "<div style=\"border:1px solid black; padding:20px 20px;text-align: justify;text-justify: inter-word\">\n",
    "    <strong>Exercise Session 1 - Locomotion, Sensors and Architectures<br/> Duration : 4 hours (2 in session + 2 at home)</strong><br/><br/>\n",
    "    <span style=\"text-decoration:underline;font-weight:bold;\">How to use this notebook?</span><br/>\n",
    "    This notebook is made of text cells and code cells. The code cells have to be <strong>executed</strong> to see the result of the program. To execute a cell, simply select it and click on the \"play\" button (<span style=\"font: bold 12px/30px Arial, serif;\">&#9658;</span>) in the tool bar just above the notebook, or type <code>shift + enter</code>. It is important to execute the code cells in their order of appearance in the notebook.<br/>\n",
    "You can make use of the table of contents to navigate easily between sections.\n",
    "</div>\n",
    "\n",
    "<br/>\n",
    "\n",
    "<div style=\"justify;text-justify: inter-word\">\n",
    "So that you may familiarise with the notebooks and the basic python syntax, the exercises are provided in notebook form and whenever there are any calculations to be made, we encourage you to do them by code. Also, if you want to take notes, we encourage you to use the markdown or Raw NBConvert cells. \n",
    "</div>"
   ]
  },
  {
   "cell_type": "markdown",
   "id": "d39feea0",
   "metadata": {
    "toc": true
   },
   "source": [
    "<h1>Table of Contents<span class=\"tocSkip\"></span></h1>\n",
    "<div class=\"toc\"><ul class=\"toc-item\"><li><span><a href=\"#Learning-Goals\" data-toc-modified-id=\"Learning-Goals-0\"><span class=\"toc-item-num\">0&nbsp;&nbsp;</span>Learning Goals</a></span></li><li><span><a href=\"#Understanding-how-to-use-the-Jupyter-notebooks\" data-toc-modified-id=\"Understanding-how-to-use-the-Jupyter-notebooks-1\"><span class=\"toc-item-num\">1&nbsp;&nbsp;</span>Understanding how to use the Jupyter notebooks</a></span></li><li><span><a href=\"#Locomotion\" data-toc-modified-id=\"Locomotion-2\"><span class=\"toc-item-num\">2&nbsp;&nbsp;</span>Locomotion</a></span><ul class=\"toc-item\"><li><span><a href=\"#Activity-1-:-Degrees-of-freedom-and-of-mobility\" data-toc-modified-id=\"Activity-1-:-Degrees-of-freedom-and-of-mobility-2.1\"><span class=\"toc-item-num\">2.1&nbsp;&nbsp;</span>Activity 1 : Degrees of freedom and of mobility</a></span><ul class=\"toc-item\"><li><span><a href=\"#System-1-:-Three-ball-drive-(from-Springer-Handbook-of-Robotics).\" data-toc-modified-id=\"System-1-:-Three-ball-drive-(from-Springer-Handbook-of-Robotics).-2.1.1\"><span class=\"toc-item-num\">2.1.1&nbsp;&nbsp;</span>System 1 : Three ball drive (from Springer Handbook of Robotics).</a></span></li><li><span><a href=\"#System-2-:-Mobile-arm-in-a-2D-space-placed-on-a-1D-mobile-vehicle.\" data-toc-modified-id=\"System-2-:-Mobile-arm-in-a-2D-space-placed-on-a-1D-mobile-vehicle.-2.1.2\"><span class=\"toc-item-num\">2.1.2&nbsp;&nbsp;</span>System 2 : Mobile arm in a 2D space placed on a 1D mobile vehicle.</a></span></li><li><span><a href=\"#System-3-:-Three-Swedish-wheels\" data-toc-modified-id=\"System-3-:-Three-Swedish-wheels-2.1.3\"><span class=\"toc-item-num\">2.1.3&nbsp;&nbsp;</span>System 3 : Three Swedish wheels</a></span></li><li><span><a href=\"#System-4-:-Thymio-suspended-by-2-pulleys\" data-toc-modified-id=\"System-4-:-Thymio-suspended-by-2-pulleys-2.1.4\"><span class=\"toc-item-num\">2.1.4&nbsp;&nbsp;</span>System 4 : Thymio suspended by 2 pulleys</a></span></li><li><span><a href=\"#System-5-:-Synchro-drive-(from-Springer-Handbook-of-Robotics).\" data-toc-modified-id=\"System-5-:-Synchro-drive-(from-Springer-Handbook-of-Robotics).-2.1.5\"><span class=\"toc-item-num\">2.1.5&nbsp;&nbsp;</span>System 5 : Synchro drive (from Springer Handbook of Robotics).</a></span></li></ul></li><li><span><a href=\"#Activity-2-:-Redundant-Systems\" data-toc-modified-id=\"Activity-2-:-Redundant-Systems-2.2\"><span class=\"toc-item-num\">2.2&nbsp;&nbsp;</span>Activity 2 : Redundant Systems</a></span></li></ul></li><li><span><a href=\"#Sensor-Characteristics\" data-toc-modified-id=\"Sensor-Characteristics-3\"><span class=\"toc-item-num\">3&nbsp;&nbsp;</span>Sensor Characteristics</a></span><ul class=\"toc-item\"><li><span><a href=\"#Activity-3-:-Sensors-Overview\" data-toc-modified-id=\"Activity-3-:-Sensors-Overview-3.1\"><span class=\"toc-item-num\">3.1&nbsp;&nbsp;</span>Activity 3 : Sensors Overview</a></span></li><li><span><a href=\"#Activity-4-:-Accelerometers\" data-toc-modified-id=\"Activity-4-:-Accelerometers-3.2\"><span class=\"toc-item-num\">3.2&nbsp;&nbsp;</span>Activity 4 : Accelerometers</a></span></li></ul></li><li><span><a href=\"#Introduction-to-Python-and-Jupyter-Notebooks\" data-toc-modified-id=\"Introduction-to-Python-and-Jupyter-Notebooks-4\"><span class=\"toc-item-num\">4&nbsp;&nbsp;</span>Introduction to Python and Jupyter Notebooks</a></span></li></ul></div>\n"
   ]
  },
  {
   "cell_type": "markdown",
   "id": "cfb58a2a",
   "metadata": {},
   "source": [
    "---\n",
    "\n",
    "# Learning Goals\n",
    "\n",
    "After using this notebook, you should be able to:\n",
    "* Learning the basics of Python and Jupyter notebooks that you will need throughout the semester\n",
    "* Understand the characteristics of degrees of freedom and mobility of mobile robots and in particular of a differential drive robot\n",
    "* Understand sensor characteristics and be able to characterise the Thymio's sensors\n",
    "\n",
    "<br/>\n",
    "\n",
    "\n",
    "---\n",
    "---"
   ]
  },
  {
   "cell_type": "markdown",
   "id": "90b6fb27",
   "metadata": {
    "vscode": {
     "languageId": "raw"
    }
   },
   "source": [
    "# Understanding how to use the Jupyter notebooks\n",
    "\n",
    "## Basic Navigation"
   ]
  },
  {
   "cell_type": "markdown",
   "id": "7cd46134",
   "metadata": {
    "vscode": {
     "languageId": "raw"
    }
   },
   "source": [
    "To use a notebook you need to understand a few basics : \n",
    "\n",
    "\n",
    "**Adding and Removing Cells**\n",
    "\n",
    "You can add cells by going to the ``Insert`` menu and choosing Add above or below. You can also move cells up or down by choosing the upwards or downwards arros located below the insert menu. \n",
    "\n",
    "\n",
    "**Running Cells**\n",
    "\n",
    "You will need to do this to execute the code contained in the individual cells. \n",
    "\n",
    "- To run an individual cell, select it and press ``Shift+Enter``\n",
    "\n",
    "- To run the whole notebook go to ``Cell->Run all``. If you just want to run the cells above or below you will also find that in the same menu \n",
    "\n",
    "- To re-run the whole notebook, go to ``Kernel -> Restart and Run all`` or press the button that looks like a fastforward button. This clears all variables stored in memory and runs the notebook from scratch. It is important to re-run the notebook from scratch from time to time, for example when you have reached a milestone to make sure that you don't have any bugs. As the notebook stores all the variables in memory, this helps avoid errors due to having deleted something, or have certain elements in the incorrect order within the cells or between cells. \n",
    "\n",
    "**Good Practices**\n",
    "\n",
    "- It is important to explain your reasoning in the Markdown cells (see below in section Markdown cells), similarly to the way you would in a report. You can have sections, subsections, write paragraphs, input images and so forth. \n",
    "\n",
    "- It is also important to comment you code so that any person who opens your notebook understands what you are doing. \n",
    "\n",
    "- When you make use of a library, it is considered good practice to import it at the start of the notebook. \n",
    "\n",
    "- Don't forget to save your notebook regularly. You can do this either with the save shortcut (Ctrl+S) or by going through File -> Save as. Under File you will also find other options such as creating a new notebook, renaming the current one, downloading it as a pdf, python file etc... \n",
    "\n",
    "**Installing Python libraries through the notebook**\n",
    "\n",
    "Instead of running the installation through the terminal, you can also run the installation from the notebook in a Code cell by calling ``!pip3 install lib1 lib2 lib3``. This is what we will do for the librairies that are required to solve the weekly exercise sessions.\n",
    "For example : "
   ]
  },
  {
   "cell_type": "code",
   "execution_count": null,
   "id": "41675abe",
   "metadata": {},
   "outputs": [],
   "source": [
    "!pip3 install numpy seaborn"
   ]
  },
  {
   "cell_type": "markdown",
   "id": "af25bf9a",
   "metadata": {},
   "source": [
    "---\n",
    "\n",
    "**Markdown Cells**\n",
    "\n",
    "Markdown cells can be used to create headings, lists (ordered or bulleted), hyperlinks, tables, latex formulas, images, etc... This of course requires it's own specific syntax but it is well documented online. You can also use raw HTML in Markdown cells (as you can see if you have a look at the code used to change the text color below to blue). \n",
    "\n",
    "> <span style=\"color:blue\">*For a more detailed introduction to Jupyter notebooks and the markdown syntax you can refer to [this one](https://daringfireball.net/projects/markdown/syntax#precode) that is markdown specific. There is also a markdown cheat sheet [here](https://github.com/adam-p/markdown-here/wiki/Markdown-Cheatsheet)*</span>.\n",
    " \n"
   ]
  },
  {
   "cell_type": "markdown",
   "id": "00ca708e",
   "metadata": {
    "vscode": {
     "languageId": "raw"
    }
   },
   "source": [
    "## Installing the libraries you will need for the course"
   ]
  },
  {
   "cell_type": "code",
   "execution_count": null,
   "id": "5391c848",
   "metadata": {},
   "outputs": [],
   "source": [
    "!pip3 install pyserial pandas seaborn opencv-python tqdm matplotlib ipywidgets numpy scipy"
   ]
  },
  {
   "cell_type": "markdown",
   "id": "69842bdc",
   "metadata": {},
   "source": [
    "Run the following cells to ensure everything is functioning correctly. If successful, they should generate a plot of a hexagon:"
   ]
  },
  {
   "cell_type": "code",
   "execution_count": null,
   "id": "de354ce3",
   "metadata": {},
   "outputs": [],
   "source": [
    "import cv2\n",
    "import math\n",
    "import numpy as np\n",
    "import matplotlib.pyplot as plt \n",
    "filename = 'images/pentagon.png'\n",
    "img = cv2.imread(filename, cv2.IMREAD_GRAYSCALE)\n",
    "\n",
    "plt.imshow(img)"
   ]
  },
  {
   "cell_type": "markdown",
   "id": "214be3d0",
   "metadata": {},
   "source": [
    "## Introduction to Python and Jupyter Notebooks\n",
    "\n",
    "Starting next week you will have to code in python, please go over the introduction to *python and Juypter notebooks*  on Moodle that we prepared for you. This is especially important if you do not have any or have little experience in python / Jupyter notebooks. Next week, we will code in python and assumed that bascis that you know basics function in python. \n",
    "\n",
    "In week 3, we will start controlling the Thymio, so it is recommended that you go over the notebook on *how to control the Thymio* before then.\n"
   ]
  },
  {
   "cell_type": "markdown",
   "id": "33b71a11",
   "metadata": {},
   "source": [
    "# Locomotion\n",
    "\n",
    "## Activity 1 : Degrees of freedom and of mobility\n",
    "\n",
    "The analysis of a system can be done considering the number of actuators, the numbers of degrees\n",
    "of freedom (DOF) and the number of degrees of mobility (DOM, or directly controllable DOF).\n",
    "\n",
    "\n",
    "Please consider the following five systems, and for each of them, indicate, the number of actuators,\n",
    "DOF, DOM, if the system is redundant and/or holonomic. Can a system by redundant and\n",
    "holonomic at the same time?"
   ]
  },
  {
   "cell_type": "markdown",
   "id": "c7f6fb47",
   "metadata": {},
   "source": [
    "\n",
    "### System 1 : Three ball drive (from Springer Handbook of Robotics).\n",
    "\n",
    "<br/>\n",
    "\n",
    "![System 1](./images/Ex1System1.jpg)\n",
    "\n",
    "<br/>"
   ]
  },
  {
   "cell_type": "raw",
   "id": "f59664d8",
   "metadata": {},
   "source": [
    "Type your answer here "
   ]
  },
  {
   "cell_type": "markdown",
   "id": "93b3b69f",
   "metadata": {},
   "source": [
    "### System 2 : Mobile arm in a 2D space placed on a 1D mobile vehicle.\n",
    "\n",
    "<br/>\n",
    "\n",
    "![System 2](./images/Ex1System2.jpg)\n",
    "\n",
    "<br/>\n"
   ]
  },
  {
   "cell_type": "raw",
   "id": "0c57e16d",
   "metadata": {},
   "source": [
    "Type your answer here "
   ]
  },
  {
   "cell_type": "markdown",
   "id": "4cf25570",
   "metadata": {},
   "source": [
    "### System 3 : Three Swedish wheels\n",
    "\n",
    "<br/>\n",
    "\n",
    "![System 3](./images/Ex1System3.jpg)\n",
    "\n",
    "<br/>"
   ]
  },
  {
   "cell_type": "raw",
   "id": "6aeda44f",
   "metadata": {},
   "source": [
    "Type your answer here "
   ]
  },
  {
   "cell_type": "markdown",
   "id": "0f79353a",
   "metadata": {},
   "source": [
    "\n",
    "### System 4 : Thymio suspended by 2 pulleys\n",
    "\n",
    "<br/>\n",
    "\n",
    "![System 4](./images/Ex1System4.jpg)\n",
    "\n",
    "<br/>"
   ]
  },
  {
   "cell_type": "raw",
   "id": "2a360306",
   "metadata": {},
   "source": [
    "Type your answer here "
   ]
  },
  {
   "cell_type": "markdown",
   "id": "a637c49c",
   "metadata": {},
   "source": [
    "\n",
    "\n",
    "### System 5 : Synchro drive (from Springer Handbook of Robotics).\n",
    "\n",
    "<br/>\n",
    "\n",
    "![System 5](./images/Ex1System5.jpg)\n",
    "\n",
    "<br/>"
   ]
  },
  {
   "cell_type": "raw",
   "id": "67f9097c",
   "metadata": {},
   "source": [
    "Type your answer here "
   ]
  },
  {
   "cell_type": "markdown",
   "id": "3b18aa70",
   "metadata": {},
   "source": [
    "## Activity 2 : Redundant Systems\n",
    "\n",
    "Redundant systems can be a solution in the optimisation of some mechanisms. Imagine that you\n",
    "have to chose an actuator for a robot. You need to optimise speed and precision, and you have only\n",
    "a fast but not precise actuator, and a slow but precise one. How do you implement your system?"
   ]
  },
  {
   "cell_type": "raw",
   "id": "85759cfd",
   "metadata": {},
   "source": [
    "Type your answer here "
   ]
  },
  {
   "cell_type": "markdown",
   "id": "1d3a4abc",
   "metadata": {},
   "source": [
    "---\n",
    "---\n",
    "\n",
    "# Sensor Characteristics\n",
    "\n",
    "Building or programming a robot, requires a good understanding of the inputs and outputs of the\n",
    "system. The input is generated by the sensors, and their characteristics are essential to ensure the\n",
    "desired functionalities. These exercices aim at training the analysis of the sensor characteristics on a real system. Moreover, as the system we are analysing is very cheap, the sensors have several\n",
    "weaknesses that need to be identified and considered when programming it. Seen from a different\n",
    "perspective, it is possible to use cheap sensors to provide interesting information, if one knows how\n",
    "to extract the correct information from them.\n",
    "\n",
    "\n",
    "The goal of this exercise is to apply the sensor-related concepts of the course on the Thymio robot,\n",
    "obtaining their characterisation and enabling an optimal use of the information they provide.\n",
    "\n",
    "\n",
    "To achieve the main goal, we will go through the following steps:\n",
    "\n",
    "* Understanding the type of sensors available.\n",
    "\n",
    "* For several sensors we will go through:\n",
    "\n",
    "    – Define range, sensitivity, bandwidth, cross-talk, precision, resolution.\n",
    "    \n",
    "    – Look at the linearity and accuracy of the sensors. Make a function to linearise the sensor.\n",
    "    \n",
    "    – Verify the linearity in respect to a movement of the robot.\n",
    "    \n",
    "    \n",
    "**Appendice: files provided**\n",
    "\n",
    "The following source files are provided in the zip folder to help :\n",
    "\n",
    "* ``ThymioCheatSheet.pdf``: Contains the main specifications of the functions, variables and events of Thymio.\n",
    "\n",
    "* ``MMA7660FC.pdf``: The Thymio accelerometer datasheet."
   ]
  },
  {
   "cell_type": "markdown",
   "id": "94254d00",
   "metadata": {},
   "source": [
    "## Activity 3 : Sensors Overview\n",
    "\n",
    "Look on the web for the sensors available on the robot. The sensors also include devices for human robot interaction, as they are used to sense the user.\n",
    "\n",
    "\n",
    "To have a complete list you can look at the specifications of the robot, at its schematics, or at the cheat sheet that is provided with these exercices.\n",
    "\n",
    "Make a list of all sensors specifying for each of them:\n",
    "\n",
    "* What is the physical principle of the sensor?\n",
    "\n",
    "* Is the sensor proprioceptive or exteroceptive?\n",
    "\n",
    "* Is the sensor active or passive?\n",
    "\n",
    "\n",
    "Or if you feel comfortable / courageous, you can try doing it in the form of a markdown table. [Here](https://www.tablesgenerator.com/markdown_tables) is a handy tool to help with table generation that you can also use for latex "
   ]
  },
  {
   "cell_type": "raw",
   "id": "a19dda14",
   "metadata": {},
   "source": [
    "Type your answer here (if you prefer a list)"
   ]
  },
  {
   "cell_type": "markdown",
   "id": "1f1a2979",
   "metadata": {},
   "source": [
    "Or here if you want to try the markdown table"
   ]
  },
  {
   "cell_type": "markdown",
   "id": "7b00c93b",
   "metadata": {},
   "source": [
    "## Activity 4 : Accelerometers\n",
    "\n",
    "Get an approximate value of the range, resolution, bandwidth of the sensor, dynamic range, precision,\n",
    "and accuracy of the accelerometers.\n"
   ]
  },
  {
   "cell_type": "markdown",
   "id": "422593c9",
   "metadata": {},
   "source": [
    "# Introduction to Python and Jupyter Notebooks\n",
    "\n",
    "Starting next week you will have to code in python, please go over the introduction to *python and Juypter notebooks*  on Moodle that we prepared for you. This is especially important if you do not have any or have little experience in python / Jupyter notebooks. Next week, we will code in python and assumed that bascis that you know basics function in python. \n",
    "\n",
    "In week 3, we will start controlling the Thymio, so it is recommended that you go over the notebook on *how to control the Thymio* before then.\n"
   ]
  },
  {
   "cell_type": "code",
   "execution_count": null,
   "id": "b2482a5b",
   "metadata": {},
   "outputs": [],
   "source": []
  }
 ],
 "metadata": {
  "hide_input": false,
  "kernelspec": {
   "display_name": "Python 3",
   "language": "python",
   "name": "python3"
  },
  "language_info": {
   "codemirror_mode": {
    "name": "ipython",
    "version": 3
   },
   "file_extension": ".py",
   "mimetype": "text/x-python",
   "name": "python",
   "nbconvert_exporter": "python",
   "pygments_lexer": "ipython3",
   "version": "3.9.12"
  },
  "toc": {
   "base_numbering": 1,
   "nav_menu": {},
   "number_sections": true,
   "sideBar": true,
   "skip_h1_title": false,
   "title_cell": "Table of Contents",
   "title_sidebar": "Contents",
   "toc_cell": true,
   "toc_position": {},
   "toc_section_display": true,
   "toc_window_display": true
  },
  "unianalytics_cell_mapping": [
   [
    "233bd567",
    "233bd567"
   ],
   [
    "d39feea0",
    "d39feea0"
   ],
   [
    "cfb58a2a",
    "cfb58a2a"
   ],
   [
    "90b6fb27",
    "90b6fb27"
   ],
   [
    "7cd46134",
    "7cd46134"
   ],
   [
    "41675abe",
    "41675abe"
   ],
   [
    "af25bf9a",
    "af25bf9a"
   ],
   [
    "00ca708e",
    "00ca708e"
   ],
   [
    "5391c848",
    "5391c848"
   ],
   [
    "69842bdc",
    "69842bdc"
   ],
   [
    "de354ce3",
    "de354ce3"
   ],
   [
    "214be3d0",
    "214be3d0"
   ],
   [
    "33b71a11",
    "33b71a11"
   ],
   [
    "c7f6fb47",
    "c7f6fb47"
   ],
   [
    "f59664d8",
    "f59664d8"
   ],
   [
    "93b3b69f",
    "93b3b69f"
   ],
   [
    "0c57e16d",
    "0c57e16d"
   ],
   [
    "4cf25570",
    "4cf25570"
   ],
   [
    "6aeda44f",
    "6aeda44f"
   ],
   [
    "0f79353a",
    "0f79353a"
   ],
   [
    "2a360306",
    "2a360306"
   ],
   [
    "a637c49c",
    "a637c49c"
   ],
   [
    "67f9097c",
    "67f9097c"
   ],
   [
    "3b18aa70",
    "3b18aa70"
   ],
   [
    "85759cfd",
    "85759cfd"
   ],
   [
    "1d3a4abc",
    "1d3a4abc"
   ],
   [
    "94254d00",
    "94254d00"
   ],
   [
    "a19dda14",
    "a19dda14"
   ],
   [
    "1f1a2979",
    "1f1a2979"
   ],
   [
    "7b00c93b",
    "7b00c93b"
   ],
   [
    "422593c9",
    "422593c9"
   ],
   [
    "b2482a5b",
    "b2482a5b"
   ]
  ],
  "unianalytics_notebook_id": "9fbfc9e8-1d0a-422e-bef2-300d2b0d8fd0"
 },
 "nbformat": 4,
 "nbformat_minor": 5
}
