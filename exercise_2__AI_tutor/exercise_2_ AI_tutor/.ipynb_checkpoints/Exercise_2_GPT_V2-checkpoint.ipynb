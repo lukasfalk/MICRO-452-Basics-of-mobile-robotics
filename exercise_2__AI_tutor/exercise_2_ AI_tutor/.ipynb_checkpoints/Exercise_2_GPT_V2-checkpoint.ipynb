{
 "cells": [
  {
   "cell_type": "markdown",
   "metadata": {
    "ExecuteTime": {
     "end_time": "2020-05-04T20:09:36.824740Z",
     "start_time": "2020-05-04T20:09:36.816919Z"
    }
   },
   "source": [
    "\n",
    "<div style=\"border:1px solid black; padding:20px 20px;text-align: justify;text-justify: inter-word\">\n",
    "    <strong>Exercise Session 2 - *PART 1* (over 2) - Computer vision: Hough Tranform <br/> Duration : 2 hours in session (PART 2 will be given separetely [basics of computer vision] and can be started during the session and at home) </strong><br/><br/>\n",
    "    <span style=\"text-decoration:underline;font-weight:bold;\">How to use this notebook?</span><br/>\n",
    "    This notebook is made of text cells and code cells. The code cells have to be <strong>executed</strong> to see the result of the program. To execute a cell, simply select it and click on the \"play\" button (<span style=\"font: bold 12px/30px Arial, serif;\">&#9658;</span>) in the tool bar just above the notebook, or type <code>shift + enter</code>. It is important to execute the code cells in their order of appearance in the notebook.<br/>\n",
    "</div>\n",
    "\n",
    "<br/>\n",
    "\n",
    "<div style=\"justify;text-justify: inter-word\"> Exercises are provided in notebook form:\n",
    "- Please use code for any calculations \n",
    "- Feel free to use <strong>markdown</strong> or Raw NBConvert cells for your notes. </div>\n",
    "\n",
    "**Note**: The images used in this session are from online tutorials. While references are left out to avoid giving away answers, make sure to cite your sources properly in your project"
   ]
  },
  {
   "cell_type": "code",
   "execution_count": null,
   "metadata": {
    "ExecuteTime": {
     "end_time": "2021-09-23T13:14:16.519011Z",
     "start_time": "2021-09-23T13:14:14.397804Z"
    }
   },
   "outputs": [],
   "source": [
    "#installations\n",
    "!pip install opencv-python tqdm matplotlib numpy ipywidgets\n",
    "!pip install --upgrade tdmclient"
   ]
  },
  {
   "cell_type": "code",
   "execution_count": null,
   "metadata": {},
   "outputs": [],
   "source": [
    "#if your consent, it will help us to follow you by getting the juypter notebook usage statistics\n",
    "!pip3 install jupyterlab-unianalytics-telemetry"
   ]
  },
  {
   "cell_type": "markdown",
   "metadata": {},
   "source": [
    "---\n",
    "# Instruction for experiment: \n",
    "While completing this notebook, you'll have the opportunity to use ChatGPT. Here you can access to it: **https://bomr.epfl.ch** if you consent to particpate to the experiment. Please exclusively use this language model for all tasks for today."
   ]
  },
  {
   "cell_type": "markdown",
   "metadata": {},
   "source": [
    "## Experiment with GPT: https://bomr.epfl.ch\n"
   ]
  },
  {
   "cell_type": "markdown",
   "metadata": {},
   "source": [
    "## Please use your unique anonymous ID:"
   ]
  },
  {
   "cell_type": "code",
   "execution_count": 1,
   "metadata": {
    "execution": {
     "iopub.execute_input": "2024-09-16T10:35:32.684208Z",
     "iopub.status.busy": "2024-09-16T10:35:32.683777Z",
     "iopub.status.idle": "2024-09-16T10:35:32.708039Z",
     "shell.execute_reply": "2024-09-16T10:35:32.707305Z",
     "shell.execute_reply.started": "2024-09-16T10:35:32.684173Z"
    }
   },
   "outputs": [
    {
     "ename": "SyntaxError",
     "evalue": "invalid syntax (1659602392.py, line 2)",
     "output_type": "error",
     "traceback": [
      "\u001b[0;36m  Input \u001b[0;32mIn [1]\u001b[0;36m\u001b[0m\n\u001b[0;31m    unique_anonymous_ID =   # 'XXXXXXXX'\u001b[0m\n\u001b[0m                            ^\u001b[0m\n\u001b[0;31mSyntaxError\u001b[0m\u001b[0;31m:\u001b[0m invalid syntax\n"
     ]
    }
   ],
   "source": [
    "#unique anonymous ID: (to put in quotes)\n",
    "unique_anonymous_ID =   # 'XXXXXXXX'"
   ]
  },
  {
   "cell_type": "markdown",
   "metadata": {},
   "source": [
    "---"
   ]
  },
  {
   "cell_type": "markdown",
   "metadata": {},
   "source": [
    "# Implementing the Hough Transform to Identify Straight Lines in an Image\n",
    "\n",
    "\n",
    "## Learning Goals\n",
    "\n",
    "The goal of this exercise is going to be to code the Hough transform to identify straight lines in an image. We are going to use the following image throughout the exercise in order to test the different steps. The image is located in the Images folder under ``pentagon.png``\n",
    "\n",
    "As this is one of your first \"big\" coding exercises we are going to guide you through it.\n",
    "\n",
    "<span style=\"color:green\">\n",
    "\n",
    "> Note: Your priority should be learning and reinforcing the theory. Don't worry about getting everything perfect right away—this exercise is designed to help you build your understanding and skills\n",
    "\n",
    "</span>\n",
    "\n",
    "\n",
    "![Pentagon](Images/pentagon.png)\n",
    "\n",
    "\n",
    "## Importing the libraries \n",
    "\n",
    "We are going to need the :\n",
    "\n",
    "- `opencv` for image processing (software library that provides a comprehensive set of tools for computer vision tasks. It's widely used in applications ranging from real-time video processing to advanced robotics.)\n",
    "\n",
    "- `math` for the trigonometry functions\n",
    "\n",
    "- `numpy` for array processing\n",
    "\n",
    "- `matplotlib` for plotting\n",
    "\n",
    "> Note that the exercise was inspired from the example [here](https://www.science-emergence.com/Articles/Implementing-a-simple-python-code-to-detect-straight-lines-using-Hough-transform/)"
   ]
  },
  {
   "cell_type": "code",
   "execution_count": 2,
   "metadata": {
    "ExecuteTime": {
     "end_time": "2020-09-22T14:02:38.201766Z",
     "start_time": "2020-09-22T14:02:38.198782Z"
    },
    "execution": {
     "iopub.execute_input": "2024-09-16T10:35:35.180722Z",
     "iopub.status.busy": "2024-09-16T10:35:35.180044Z",
     "iopub.status.idle": "2024-09-16T10:35:35.745810Z",
     "shell.execute_reply": "2024-09-16T10:35:35.745415Z",
     "shell.execute_reply.started": "2024-09-16T10:35:35.180698Z"
    },
    "tags": []
   },
   "outputs": [],
   "source": [
    "import cv2\n",
    "import math\n",
    "import numpy as np\n",
    "import matplotlib.pyplot as plt "
   ]
  },
  {
   "cell_type": "markdown",
   "metadata": {},
   "source": [
    "## Loading and displaying the image\n",
    "### Importing OpenCV, Reading and Displaying an Image\n",
    "OpenCV<sup id=\"a1\">[1](#f1)</sup> is a software library that provides a comprehensive set of tools for image processing and computer vision tasks. It's widely used in applications ranging from real-time video processing to advanced robotics.\n",
    "\n",
    "Start by giving the filename with the full path so that the mpimg module can load the image with the imread function. \n",
    "\n",
    "Then display the image object with plt.imshow()"
   ]
  },
  {
   "cell_type": "code",
   "execution_count": 3,
   "metadata": {
    "ExecuteTime": {
     "end_time": "2020-09-22T14:02:38.432427Z",
     "start_time": "2020-09-22T14:02:38.205044Z"
    },
    "execution": {
     "iopub.execute_input": "2024-09-16T10:35:36.489734Z",
     "iopub.status.busy": "2024-09-16T10:35:36.488694Z",
     "iopub.status.idle": "2024-09-16T10:35:36.586045Z",
     "shell.execute_reply": "2024-09-16T10:35:36.585608Z",
     "shell.execute_reply.started": "2024-09-16T10:35:36.489684Z"
    },
    "tags": []
   },
   "outputs": [
    {
     "data": {
      "text/plain": [
       "<matplotlib.image.AxesImage at 0x7fa4f85ab040>"
      ]
     },
     "execution_count": 3,
     "metadata": {},
     "output_type": "execute_result"
    },
    {
     "data": {
      "image/png": "[encoded data removed]",
      "text/plain": [
       "<Figure size 432x288 with 1 Axes>"
      ]
     },
     "metadata": {
      "needs_background": "light"
     },
     "output_type": "display_data"
    }
   ],
   "source": [
    "filename = 'images/pentagon.png'\n",
    "img = cv2.imread(filename, cv2.IMREAD_GRAYSCALE)\n",
    "\n",
    "plt.imshow(img)"
   ]
  },
  {
   "cell_type": "markdown",
   "metadata": {},
   "source": [
    "## Creating the hough transform matrix\n",
    "\n",
    "1. We start by creating a numpy array of arbitrary dimensions. "
   ]
  },
  {
   "cell_type": "markdown",
   "metadata": {},
   "source": [
    "<span style=\"color:green\">\n",
    "\n",
    "Recall: the goal of the exercise is to practice and used of the theorical, **LEARNING** is the priority !!\n",
    "    "
   ]
  },
  {
   "cell_type": "code",
   "execution_count": 4,
   "metadata": {
    "ExecuteTime": {
     "end_time": "2020-09-22T14:02:38.436611Z",
     "start_time": "2020-09-22T14:02:38.434168Z"
    },
    "execution": {
     "iopub.execute_input": "2024-09-16T10:35:37.733856Z",
     "iopub.status.busy": "2024-09-16T10:35:37.733063Z",
     "iopub.status.idle": "2024-09-16T10:35:37.739599Z",
     "shell.execute_reply": "2024-09-16T10:35:37.738850Z",
     "shell.execute_reply.started": "2024-09-16T10:35:37.733802Z"
    },
    "tags": []
   },
   "outputs": [],
   "source": [
    "# We choose to have a final matrix of the following\n",
    "# dimensions. This is an arbitrary decision\n",
    "\n",
    "r_dim = 200 \n",
    "theta_dim = 300\n",
    "\n",
    "# Now, create the hough transform matrix (filled with zeros), called hough_space"
   ]
  },
  {
   "cell_type": "markdown",
   "metadata": {},
   "source": [
    "2. Now we need to relate the dimensions of this new matrix to the corresponding values along the rho and theta axes. This means we need to determine the minimum and maximum values of theta and rho. "
   ]
  },
  {
   "cell_type": "code",
   "execution_count": 5,
   "metadata": {
    "ExecuteTime": {
     "end_time": "2020-09-22T14:02:38.441259Z",
     "start_time": "2020-09-22T14:02:38.438750Z"
    },
    "execution": {
     "iopub.execute_input": "2024-09-16T10:35:38.129925Z",
     "iopub.status.busy": "2024-09-16T10:35:38.128996Z",
     "iopub.status.idle": "2024-09-16T10:35:38.134941Z",
     "shell.execute_reply": "2024-09-16T10:35:38.133687Z",
     "shell.execute_reply.started": "2024-09-16T10:35:38.129867Z"
    },
    "tags": []
   },
   "outputs": [],
   "source": [
    "# Find the values of theta min and theta max\n",
    "\n",
    "\n",
    "# From the image shape, determine rho min and rho max\n",
    "\n"
   ]
  },
  {
   "cell_type": "markdown",
   "metadata": {},
   "source": [
    "Now we are going to compute the hough transform of the original image. The pseudo code is the following :\n",
    "\n",
    "<span style=\"color:green\">\n",
    "    \n",
    "Be sure to understand the pseudocode before implementing it; the goal is to understand the principle.\n",
    "    \n",
    "</span>\n",
    "\n",
    "    for all pixels:\n",
    "        if the pixel is white:\n",
    "              do nothing\n",
    "        else:\n",
    "            for theta values :\n",
    "                compute rho from the pixel coordinates and theta\n",
    "                convert rho to the image space\n",
    "                update the hough space matrix for the theta and rho coordinates in the array\n",
    "                \n",
    "You should get a result similar to this one \n",
    "\n",
    "\n",
    "<br/>\n",
    "\n",
    "![Pentagon](Images/houghTransform.png)\n",
    "\n",
    "<br/>\n",
    "\n"
   ]
  },
  {
   "cell_type": "code",
   "execution_count": 6,
   "metadata": {
    "execution": {
     "iopub.execute_input": "2024-09-16T10:35:38.717931Z",
     "iopub.status.busy": "2024-09-16T10:35:38.716999Z",
     "iopub.status.idle": "2024-09-16T10:35:38.723454Z",
     "shell.execute_reply": "2024-09-16T10:35:38.722245Z",
     "shell.execute_reply.started": "2024-09-16T10:35:38.717879Z"
    },
    "tags": []
   },
   "outputs": [],
   "source": [
    "#your code here"
   ]
  },
  {
   "cell_type": "markdown",
   "metadata": {
    "execution": {
     "iopub.execute_input": "2024-09-13T13:29:43.373214Z",
     "iopub.status.busy": "2024-09-13T13:29:43.372780Z",
     "iopub.status.idle": "2024-09-13T13:29:43.378618Z",
     "shell.execute_reply": "2024-09-13T13:29:43.377608Z",
     "shell.execute_reply.started": "2024-09-13T13:29:43.373180Z"
    }
   },
   "source": [
    "<span style=\"color:green\">\n",
    "The objective is to understand how to compute the **Hough transform** for a range of rho and theta.<br>\n",
    "- Have you mastered all the key concepts? For example, do you fully understand how to calculate theta and rho? \n",
    "<br> \n",
    "- Feel free to experiment with other images or adjust some parameters to deepen your understanding.\n",
    "</span>"
   ]
  },
  {
   "cell_type": "markdown",
   "metadata": {},
   "source": [
    "## Identifying the maxima of the Hough Transform\n",
    "\n",
    "After calculating the Hough space, the next step is to find the local extrema. This will give us the rho and theta parameters of the different straight lines in the image. \n",
    "\n",
    "To find the extrema, we will do the following :\n",
    "\n",
    "1. isolate the brightest spots\n",
    "\n",
    "2. enlarge the size of the spots\n",
    "\n",
    "3. find the centroid of the spots"
   ]
  },
  {
   "cell_type": "markdown",
   "metadata": {},
   "source": [
    "### Isolating the brightest spots through thresholding\n",
    "\n",
    "To isolate the bright spots and remove the gradients around the maxima we are going to apply **thresholding** to convert the image into 0's for the dark areas and 1's around the maximas. Have a look [here](https://docs.opencv.org/master/d7/d4d/tutorial_py_thresholding.html) at the different thresholding functions that opencv has to offer. \n",
    "\n",
    "Play with the parameters to try to obtain an image similar to this one \n",
    "\n",
    "<br/>\n",
    "\n",
    "![Pentagon](images/thresholding_output.png)\n",
    "\n",
    "<br/>"
   ]
  },
  {
   "cell_type": "code",
   "execution_count": 7,
   "metadata": {
    "ExecuteTime": {
     "end_time": "2020-05-05T15:40:20.301138Z",
     "start_time": "2020-05-05T15:40:20.056494Z"
    },
    "execution": {
     "iopub.execute_input": "2024-09-16T10:35:39.521943Z",
     "iopub.status.busy": "2024-09-16T10:35:39.520957Z",
     "iopub.status.idle": "2024-09-16T10:35:39.527475Z",
     "shell.execute_reply": "2024-09-16T10:35:39.526300Z",
     "shell.execute_reply.started": "2024-09-16T10:35:39.521888Z"
    },
    "tags": []
   },
   "outputs": [],
   "source": [
    "#your code here"
   ]
  },
  {
   "cell_type": "markdown",
   "metadata": {},
   "source": [
    "<span style=\"color:green\">\n",
    "Have you understood why and how we first threshold the brightest spot?\n",
    "</span>"
   ]
  },
  {
   "cell_type": "markdown",
   "metadata": {},
   "source": [
    "### Enlarging the size of the spots through morphological operators\n",
    "\n",
    "To identify the location of the local maxima, we will make use of find contours. However the spots in the image are too small to apply the opencv functions. That is why we are going to start by increasing their size through morphological operations. Have a look [here](https://docs.opencv.org/master/d9/d61/tutorial_py_morphological_ops.html) to see the different operators and their effect on a binary image. \n",
    "\n",
    "\n",
    "You should get an image like this one : \n",
    "\n",
    "<br/>\n",
    "\n",
    "![Pentagon](images/morphological_output.png)\n",
    "\n",
    "<br/>"
   ]
  },
  {
   "cell_type": "code",
   "execution_count": 8,
   "metadata": {
    "ExecuteTime": {
     "end_time": "2020-05-05T15:40:20.547095Z",
     "start_time": "2020-05-05T15:40:20.304135Z"
    },
    "execution": {
     "iopub.execute_input": "2024-09-16T10:35:40.050449Z",
     "iopub.status.busy": "2024-09-16T10:35:40.049636Z",
     "iopub.status.idle": "2024-09-16T10:35:40.056424Z",
     "shell.execute_reply": "2024-09-16T10:35:40.054982Z",
     "shell.execute_reply.started": "2024-09-16T10:35:40.050405Z"
    }
   },
   "outputs": [],
   "source": [
    "#your code here"
   ]
  },
  {
   "cell_type": "markdown",
   "metadata": {
    "execution": {
     "iopub.execute_input": "2024-09-16T10:08:42.565797Z",
     "iopub.status.busy": "2024-09-16T10:08:42.564536Z",
     "iopub.status.idle": "2024-09-16T10:08:42.620597Z",
     "shell.execute_reply": "2024-09-16T10:08:42.619680Z",
     "shell.execute_reply.started": "2024-09-16T10:08:42.565719Z"
    }
   },
   "source": [
    "<span style=\"color:green\">\n",
    "Have you understood why and how we enlarge the size of the spots?\n",
    "</span>"
   ]
  },
  {
   "cell_type": "markdown",
   "metadata": {
    "ExecuteTime": {
     "end_time": "2020-05-04T22:18:47.171768Z",
     "start_time": "2020-05-04T22:18:47.005549Z"
    }
   },
   "source": [
    "### Identifying the Centroids' Locations Through Contours \n",
    "\n",
    "Now we have bigger spots and we are going to use Opencv's built in functions to find the contours and deduce the location of the centroid in the hough space. [An example is provided here](https://www.learnopencv.com/find-center-of-blob-centroid-using-opencv-cpp-python/). \n",
    "\n",
    "You should get a result similar to this one : \n",
    "\n",
    "\n",
    "<br/>\n",
    "\n",
    "![Pentagon](Images/centroid_output.png)\n",
    "\n",
    "<br/>"
   ]
  },
  {
   "cell_type": "code",
   "execution_count": 9,
   "metadata": {
    "ExecuteTime": {
     "end_time": "2020-05-05T15:40:20.790040Z",
     "start_time": "2020-05-05T15:40:20.548963Z"
    },
    "execution": {
     "iopub.execute_input": "2024-09-16T10:35:40.985046Z",
     "iopub.status.busy": "2024-09-16T10:35:40.984215Z",
     "iopub.status.idle": "2024-09-16T10:35:40.991066Z",
     "shell.execute_reply": "2024-09-16T10:35:40.989497Z",
     "shell.execute_reply.started": "2024-09-16T10:35:40.984979Z"
    }
   },
   "outputs": [],
   "source": [
    "#your code here"
   ]
  },
  {
   "cell_type": "markdown",
   "metadata": {},
   "source": [
    "<span style=\"color:green\">\n",
    "Have you understood why and how we do the identification of the location of the centroid?\n",
    "</span>"
   ]
  },
  {
   "cell_type": "markdown",
   "metadata": {},
   "source": [
    "## Computing the location of the straight lines in the original image and drawing them"
   ]
  },
  {
   "cell_type": "markdown",
   "metadata": {},
   "source": [
    "With the maxima obtained, we can now compute the corresponding segments in the original image. You should get a result similar to this one. \n",
    "\n",
    "\n",
    "<br/>\n",
    "\n",
    "![Pentagon](images/hough_transform.png)\n",
    "\n",
    "<br/>\n"
   ]
  },
  {
   "cell_type": "code",
   "execution_count": 10,
   "metadata": {
    "execution": {
     "iopub.execute_input": "2024-09-16T10:35:42.782868Z",
     "iopub.status.busy": "2024-09-16T10:35:42.782142Z",
     "iopub.status.idle": "2024-09-16T10:35:42.787101Z",
     "shell.execute_reply": "2024-09-16T10:35:42.785802Z",
     "shell.execute_reply.started": "2024-09-16T10:35:42.782820Z"
    }
   },
   "outputs": [],
   "source": [
    "#your code here"
   ]
  },
  {
   "cell_type": "markdown",
   "metadata": {},
   "source": [
    "<span style=\"color:green\">\n",
    "Have you fully understood the Hough Transformation for detecting straight lines? Example:<br>\n",
    "- Do you understand the impact of different parameters or inputs on its performance?<br>\n",
    "- Do you understand the key functions?<br>\n",
    "- Do you understand its performance and limitations?<br><br>\n",
    "--> Reflecting on these points will enhance your grasp of the topic.\n",
    "</span>"
   ]
  },
  {
   "cell_type": "markdown",
   "metadata": {},
   "source": [
    "---\n",
    "<span style=\"color:green\">\n",
    "\n",
    "## Please come back to the questionnaire (survey)\n",
    "    \n",
    "Come back to the webpage where you have the questionnaire and upload:\n",
    "\n",
    "(Even if Incomplete, Please Submit 🙏🏼)\n",
    "- This juypter notebook <code>Exercise_2_GPT_V2.ipynb<code>\n",
    "</span>\n",
    "---"
   ]
  },
  {
   "cell_type": "code",
   "execution_count": null,
   "metadata": {},
   "outputs": [],
   "source": []
  }
 ],
 "metadata": {
  "hide_input": false,
  "kernelspec": {
   "display_name": "Python 3 (ipykernel)",
   "language": "python",
   "name": "python3"
  },
  "language_info": {
   "codemirror_mode": {
    "name": "ipython",
    "version": 3
   },
   "file_extension": ".py",
   "mimetype": "text/x-python",
   "name": "python",
   "nbconvert_exporter": "python",
   "pygments_lexer": "ipython3",
   "version": "3.9.12"
  },
  "toc": {
   "base_numbering": 1,
   "nav_menu": {},
   "number_sections": true,
   "sideBar": true,
   "skip_h1_title": false,
   "title_cell": "Table of Contents",
   "title_sidebar": "Contents",
   "toc_cell": true,
   "toc_position": {
    "height": "calc(100% - 180px)",
    "left": "10px",
    "top": "150px",
    "width": "165px"
   },
   "toc_section_display": true,
   "toc_window_display": true
  }
 },
 "nbformat": 4,
 "nbformat_minor": 4
}
