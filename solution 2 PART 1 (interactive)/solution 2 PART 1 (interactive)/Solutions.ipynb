{
 "cells": [
  {
   "cell_type": "markdown",
   "metadata": {
    "ExecuteTime": {
     "end_time": "2020-05-04T20:09:36.824740Z",
     "start_time": "2020-05-04T20:09:36.816919Z"
    }
   },
   "source": [
    "\n",
    "<div style=\"border:1px solid black; padding:20px 20px;text-align: justify;text-justify: inter-word\">\n",
    "    <strong>Exercise Session 2 - Computer vision: 4 hours (2 in session + 2 at home)</strong><br/><br/>\n",
    "    <span style=\"text-decoration:underline;font-weight:bold;\">How to use this notebook?</span><br/>\n",
    "    This notebook is made of text cells and code cells. The code cells have to be <strong>executed</strong> to see the result of the program. To execute a cell, simply select it and click on the \"play\" button (<span style=\"font: bold 12px/30px Arial, serif;\">&#9658;</span>) in the tool bar just above the notebook, or type <code>shift + enter</code>. It is important to execute the code cells in their order of appearance in the notebook.<br/>\n",
    "You can make use of the table of contents to navigate easily between sections.\n",
    "</div>\n",
    "\n",
    "<br/>\n",
    "\n",
    "<div style=\"justify;text-justify: inter-word\">\n",
    "So that you may familiarise with the notebooks and the basic python syntax, the exercises are provided in notebook form and whenever there are any calculations to be made, we encourage you to do them by code. Also, if you want to take notes, we encourage you to use the markdown or Raw NBConvert cells. \n",
    "</div>\n",
    "\n",
    "Note : the images used in this exercise session were taken from tutorials online. And although the references are not provided here so that you don't have a sneak peak at the solution, you will not be excused if you do not cite your sources in the project. "
   ]
  },
  {
   "cell_type": "markdown",
   "metadata": {
    "toc": true
   },
   "source": [
    "</span></li><li><span><a href=\"<span><a #Activity-1---Implementing-the-Hough-Transform-to-Identify-Straight-Lines-in-an-Image\" data-toc-modified-id=\"Activity-1---Implementing-the-Hough-Transform-to-Identify-Straight-Lines-in-an-Image-1\"><span class=\"toc-item-num\">1&nbsp;&nbsp;</span>Activity 1 - Implementing the Hough Transform to Identify Straight Lines in an Image</a></span><ul class=\"toc-item\"><li><span><a href=\"#Importing-the-libraries\" data-toc-modified-id=\"Importing-the-libraries-1.1\"><span class=\"toc-item-num\">1.1&nbsp;&nbsp;</span>Importing the libraries</a></span></li><li><span><a href=\"#Loading-and-displaying-the-image\" data-toc-modified-id=\"Loading-and-displaying-the-image-1.2\"><span class=\"toc-item-num\">1.2&nbsp;&nbsp;</span>Loading and displaying the image</a></span></li><li><span><a href=\"#Creating-the-hough-transform-matrix\" data-toc-modified-id=\"Creating-the-hough-transform-matrix-1.3\"><span class=\"toc-item-num\">1.3&nbsp;&nbsp;</span>Creating the hough transform matrix</a></span></li><li><span><a href=\"#Identifying-the-maxima-of-the-Hough-Transform\" data-toc-modified-id=\"Identifying-the-maxima-of-the-Hough-Transform-1.4\"><span class=\"toc-item-num\">1.4&nbsp;&nbsp;</span>Identifying the maxima of the Hough Transform</a></span><ul class=\"toc-item\"><li><span><a href=\"#Isolating-the-brightest-spots-through-thresholding\" data-toc-modified-id=\"Isolating-the-brightest-spots-through-thresholding-1.4.1\"><span class=\"toc-item-num\">1.4.1&nbsp;&nbsp;</span>Isolating the brightest spots through thresholding</a></span></li><li><span><a href=\"#Enlarging-the-size-of-the-spots-through-morphological-operators\" data-toc-modified-id=\"Enlarging-the-size-of-the-spots-through-morphological-operators-1.4.2\"><span class=\"toc-item-num\">1.4.2&nbsp;&nbsp;</span>Enlarging the size of the spots through morphological operators</a></span></li><li><span><a href=\"#Identifying-the-Centroids'-Locations-Through-Contours\" data-toc-modified-id=\"Identifying-the-Centroids'-Locations-Through-Contours-1.4.3\"><span class=\"toc-item-num\">1.4.3&nbsp;&nbsp;</span>Identifying the Centroids' Locations Through Contours</a></span></li></ul></li><li><span><a href=\"#Computing-the-location-of-the-straight-lines-in-the-original-image-and-drawing-them\" data-toc-modified-id=\"Computing-the-location-of-the-straight-lines-in-the-original-image-and-drawing-them-1.5\"><span class=\"toc-item-num\">1.5&nbsp;&nbsp;</span>Computing the location of the straight lines in the original image and drawing them</a></span></li></ul></li></ul></div>"
   ]
  },
  {
   "cell_type": "markdown",
   "metadata": {},
   "source": [
    "# Implementing the Hough Transform to Identify Straight Lines in an Image\n",
    "\n",
    "\n",
    "## Learning Goals\n",
    "\n",
    "The goal of this exercise is going to be to code the Hough transform to identify straight lines in an image. We are going to use the following image throughout the exercise in order to test the different steps. The image is located in the Images folder under ``pentagon.png``\n",
    "\n",
    "As this is one of your first \"big\" coding exercises we are going to guide you through it. \n",
    "\n",
    "<br/>\n",
    "\n",
    "![Pentagon](Images/pentagon.png)\n",
    "\n",
    "<br/>\n",
    "\n",
    "## Importing the libraries \n",
    "\n",
    "We are going to need the :\n",
    "\n",
    "- `opencv` for image processing (software library that provides a comprehensive set of tools for computer vision tasks. It's widely used in applications ranging from real-time video processing to advanced robotics.)\n",
    "\n",
    "- `math` for the trigonometry functions\n",
    "\n",
    "- `numpy` for array processing\n",
    "\n",
    "- `matplotlib` for plotting\n",
    "\n",
    "> Note that the exercise was inspired from the example [here](https://www.science-emergence.com/Articles/Implementing-a-simple-python-code-to-detect-straight-lines-using-Hough-transform/)"
   ]
  },
  {
   "cell_type": "code",
   "execution_count": 11,
   "metadata": {
    "ExecuteTime": {
     "end_time": "2021-09-23T13:21:02.895029Z",
     "start_time": "2021-09-23T13:21:02.890933Z"
    },
    "execution": {
     "iopub.execute_input": "2024-09-14T13:45:22.708052Z",
     "iopub.status.busy": "2024-09-14T13:45:22.707331Z",
     "iopub.status.idle": "2024-09-14T13:45:23.299059Z",
     "shell.execute_reply": "2024-09-14T13:45:23.298748Z",
     "shell.execute_reply.started": "2024-09-14T13:45:22.708006Z"
    },
    "tags": []
   },
   "outputs": [],
   "source": [
    "import cv2\n",
    "import math\n",
    "import numpy as np\n",
    "import matplotlib.pyplot as plt "
   ]
  },
  {
   "cell_type": "markdown",
   "metadata": {},
   "source": [
    "## Loading and displaying the image\n",
    "\n",
    "Start by giving the filename with the full path so that the mpimg module can load the image with the imread function. \n",
    "\n",
    "Then display the image object with plt.imshow()"
   ]
  },
  {
   "cell_type": "code",
   "execution_count": 12,
   "metadata": {
    "ExecuteTime": {
     "end_time": "2021-09-23T13:21:03.241607Z",
     "start_time": "2021-09-23T13:21:02.898124Z"
    },
    "execution": {
     "iopub.execute_input": "2024-09-15T10:58:54.817307Z",
     "iopub.status.busy": "2024-09-15T10:58:54.816291Z",
     "iopub.status.idle": "2024-09-15T10:58:54.922570Z",
     "shell.execute_reply": "2024-09-15T10:58:54.922154Z",
     "shell.execute_reply.started": "2024-09-15T10:58:54.817213Z"
    },
    "tags": []
   },
   "outputs": [
    {
     "data": {
      "text/plain": [
       "<matplotlib.image.AxesImage at 0x7fbad9353f40>"
      ]
     },
     "execution_count": 12,
     "metadata": {},
     "output_type": "execute_result"
    },
    {
     "data": {
      "image/png": "[encoded data removed]",
      "text/plain": [
       "<Figure size 432x288 with 1 Axes>"
      ]
     },
     "metadata": {
      "needs_background": "light"
     },
     "output_type": "display_data"
    }
   ],
   "source": [
    "\n",
    "filename = 'images/pentagon.png'\n",
    "img = cv2.imread(filename, cv2.IMREAD_GRAYSCALE)\n",
    "plt.imshow(img)"
   ]
  },
  {
   "cell_type": "markdown",
   "metadata": {
    "tags": []
   },
   "source": [
    "## Creating the hough transform matrix\n",
    "\n",
    "1. We start by creating a numpy array of arbitrary dimensions. "
   ]
  },
  {
   "cell_type": "code",
   "execution_count": 13,
   "metadata": {
    "ExecuteTime": {
     "end_time": "2021-09-23T13:21:03.246561Z",
     "start_time": "2021-09-23T13:21:03.243628Z"
    },
    "execution": {
     "iopub.execute_input": "2024-09-15T10:58:55.894317Z",
     "iopub.status.busy": "2024-09-15T10:58:55.893371Z",
     "iopub.status.idle": "2024-09-15T10:58:55.901398Z",
     "shell.execute_reply": "2024-09-15T10:58:55.900307Z",
     "shell.execute_reply.started": "2024-09-15T10:58:55.894263Z"
    },
    "tags": []
   },
   "outputs": [],
   "source": [
    "# We choose to have a final matrix of the following\n",
    "# dimensions. This is an arbitrary decision\n",
    "\n",
    "r_dim = 200 \n",
    "theta_dim = 300\n",
    "\n",
    "# Creating the empty hough transform matrix\n",
    "hough_space = np.zeros((r_dim,theta_dim))"
   ]
  },
  {
   "cell_type": "markdown",
   "metadata": {},
   "source": [
    "**Mapping to Discrete Hough Space:**\n",
    "\n",
    "<span style=\"color: #2980B9 ;\">\n",
    "\n",
    "Since computers can't handle continuous ranges effectively, we discretize the range of possible \\(r\\) and \\(\\theta\\) values into a finite number of bins:\n",
    "\n",
    "- `theta_dim` is the number of bins for \\(\\theta\\)\n",
    "- `r_dim` is the number of bins for \\(r\\)"
   ]
  },
  {
   "cell_type": "markdown",
   "metadata": {},
   "source": [
    "2. Now we need to relate the dimensions of this new matrix to the corresponding values along the rho and theta axes. This means we need to determine the minimum and maximum values of theta and rho. "
   ]
  },
  {
   "cell_type": "code",
   "execution_count": 14,
   "metadata": {
    "ExecuteTime": {
     "end_time": "2021-09-23T13:21:03.253159Z",
     "start_time": "2021-09-23T13:21:03.249299Z"
    },
    "execution": {
     "iopub.execute_input": "2024-09-15T10:58:57.512561Z",
     "iopub.status.busy": "2024-09-15T10:58:57.511583Z",
     "iopub.status.idle": "2024-09-15T10:58:57.524316Z",
     "shell.execute_reply": "2024-09-15T10:58:57.522881Z",
     "shell.execute_reply.started": "2024-09-15T10:58:57.512493Z"
    },
    "tags": []
   },
   "outputs": [],
   "source": [
    "# Get theta min and theta max\n",
    "theta_max = 1.0 * math.pi \n",
    "theta_min = 0.0\n",
    "\n",
    "# From the image shape, determine rho min and rho max\n",
    "(x_max, y_max) = img.shape\n",
    "r_min = 0.0\n",
    "r_max = math.hypot(x_max, y_max)\n"
   ]
  },
  {
   "cell_type": "markdown",
   "metadata": {},
   "source": [
    "Now we are going to compute the hough transform of the original image. The pseudo code is the following :\n",
    "\n",
    "    for all pixels:\n",
    "        if the pixel is white:\n",
    "              do nothing\n",
    "        else:\n",
    "            for theta values :\n",
    "                compute rho from the pixel coordinates and theta\n",
    "                normalise rho \n",
    "                update the hough space matrix for the theta and rho coordinates in the array \n",
    "                \n",
    "                \n",
    "You should get a result similar to this one \n",
    "\n",
    "\n",
    "<br/>\n",
    "\n",
    "![Pentagon](Images/houghTransform.png)"
   ]
  },
  {
   "cell_type": "markdown",
   "metadata": {},
   "source": [
    "\n",
    "<span style=\"color: #2980B9 ;\">\n",
    "\n",
    "**Understanding the Hough Transform:**\n",
    "\n",
    "The Hough Transform is a feature extraction technique used in image analysis, computer vision, and digital image processing. Its purpose is to find imperfect instances of objects within a certain class of shapes by a voting procedure.\n",
    "\n",
    "For detecting lines, the standard Hough Transform involves mapping points from the Cartesian coordinate system (image space) to the polar coordinate system (Hough space). Each point (x, y) in the image space corresponds to a sinusoidal curve in the Hough space defined by the formula:\n",
    "\n",
    "\\[\n",
    "$r = x \\cdot \\cos(\\theta) + y \\cdot \\sin(\\theta)$\n",
    "\\]\n",
    "\n",
    "\n",
    "1. **Scaling $\\rho$ to the Hough Space Index:**\n",
    "\n",
    "   - The computed $r$ value from the equation $r = x \\cdot \\cos(\\theta) + y \\cdot \\sin(\\theta)$ can range from $-r_{\\text{max}}$ to $r_{\\text{max}}$.\n",
    "   - However, array indices must be non-negative integers.\n",
    "   - To map $r$ to a valid index (`ir`) in the Hough space array (`hough_space`), we scale and shift $r$ accordingly.\n",
    "\n",
    "2. **The Actual Mapping:**\n",
    "\n",
    "   ```python\n",
    "   ir = int(r_dim * (r + r_max) / (2 * r_max))\n",
    "   ```\n",
    "\n",
    "   - **Shift $r$ to have Non-negative index:**\n",
    "     - Adding `r_max` shifts the range from $([-r_{\\text{max}}, r_{\\text{max}}]$ to $[0, 2r_{\\text{max}}]$.\n",
    "   - **Scale to Index Range:**\n",
    "     - Multiplying by `r_dim / (2 * r_max)` scales the shifted $r$ value to the range [0, r_dim], which corresponds to valid indices in the Hough space array.\n",
    "\n",
    "By applying this mapping, we ensure that all r values correspond to valid indices in the Hough space array. This avoids negative indices and ensures that the plotting in NumPy correctly represents the Hough transform."
   ]
  },
  {
   "cell_type": "code",
   "execution_count": 15,
   "metadata": {
    "ExecuteTime": {
     "end_time": "2021-09-23T13:21:04.840725Z",
     "start_time": "2021-09-23T13:21:03.255561Z"
    },
    "execution": {
     "iopub.execute_input": "2024-09-15T10:58:58.242908Z",
     "iopub.status.busy": "2024-09-15T10:58:58.242052Z",
     "iopub.status.idle": "2024-09-15T10:58:58.730071Z",
     "shell.execute_reply": "2024-09-15T10:58:58.729700Z",
     "shell.execute_reply.started": "2024-09-15T10:58:58.242846Z"
    },
    "tags": []
   },
   "outputs": [
    {
     "data": {
      "text/plain": [
       "Text(0.5, 1.0, 'Hough Space')"
      ]
     },
     "execution_count": 15,
     "metadata": {},
     "output_type": "execute_result"
    },
    {
     "data": {
      "image/png": "[encoded data removed]",
      "text/plain": [
       "<Figure size 432x288 with 1 Axes>"
      ]
     },
     "metadata": {
      "needs_background": "light"
     },
     "output_type": "display_data"
    }
   ],
   "source": [
    "\n",
    "for x in range(x_max):\n",
    "    for y in range(y_max):\n",
    "        if img[x,y] == 255: continue # if  pixel = white continue\n",
    "        for idx_theta in range(theta_dim): \n",
    "            theta = 1.0 * idx_theta * theta_max / theta_dim \n",
    "            r = x * math.cos(theta) + y * math.sin(theta) # calculate rho\n",
    "            ir = int(r_dim * (r + r_max) / (2 * r_max)) # calculate the index of rho\n",
    "\n",
    "            hough_space[int(ir),int(idx_theta)] += 1\n",
    "            \n",
    "# Plotting function\n",
    "plt.imshow(hough_space, origin='lower')\n",
    "\n",
    "#################### We add values and labels to the axes################\n",
    "plt.xlim(0,theta_dim)\n",
    "plt.ylim(0,r_dim)\n",
    "\n",
    "tick_locs = [i for i in range(0,theta_dim,40)]\n",
    "tick_lbls = [round( (1.0 * i * theta_max) / theta_dim,1) for i in range(0,theta_dim,40)]\n",
    "plt.xticks(tick_locs, tick_lbls)\n",
    "\n",
    "tick_locs = [i for i in range(0,r_dim,20)]\n",
    "tick_lbls = [round( (1.0 * i * 2*r_max ) / r_dim,1) for i in range(0,r_dim,20)]\n",
    "plt.yticks(tick_locs, tick_lbls)\n",
    "\n",
    "plt.xlabel(r'$\\Theta$')\n",
    "plt.ylabel(r'$\\rho$')\n",
    "plt.title('Hough Space')"
   ]
  },
  {
   "cell_type": "markdown",
   "metadata": {},
   "source": [
    "## Identifying the maxima of the Hough Transform\n",
    "\n",
    "After calculating the Hough space, the next step is to find the local extrema. This will give us the rho and theta parameters of the different straight lines in the image. \n",
    "\n",
    "To find the extrema, we will do the following :\n",
    "\n",
    "1. isolate the brightest spots\n",
    "\n",
    "2. enlarge the size of the spots\n",
    "\n",
    "3. find the centroid of the spots"
   ]
  },
  {
   "cell_type": "markdown",
   "metadata": {},
   "source": [
    "### Isolating the brightest spots through thresholding\n",
    "\n",
    "To isolate the bright spots and remove the gradients around the maxima we are going to apply **thresholding** to convert the image into 0's for the dark areas and 1's around the maximas. Have a look [here](https://docs.opencv.org/master/d7/d4d/tutorial_py_thresholding.html) at the different thresholding functions that opencv has to offer. \n",
    "\n",
    "Play with the parameters to try to obtain an image similar to this one \n",
    "\n"
   ]
  },
  {
   "cell_type": "code",
   "execution_count": 16,
   "metadata": {
    "ExecuteTime": {
     "end_time": "2021-09-23T13:21:05.173301Z",
     "start_time": "2021-09-23T13:21:04.847113Z"
    },
    "execution": {
     "iopub.execute_input": "2024-09-15T10:59:00.347617Z",
     "iopub.status.busy": "2024-09-15T10:59:00.346692Z",
     "iopub.status.idle": "2024-09-15T10:59:00.550590Z",
     "shell.execute_reply": "2024-09-15T10:59:00.550204Z",
     "shell.execute_reply.started": "2024-09-15T10:59:00.347565Z"
    },
    "tags": []
   },
   "outputs": [
    {
     "data": {
      "image/png": "[encoded data removed]",
      "text/plain": [
       "<Figure size 432x288 with 1 Axes>"
      ]
     },
     "metadata": {
      "needs_background": "light"
     },
     "output_type": "display_data"
    }
   ],
   "source": [
    "# First we convert the pixels to uint8 in order to apply the thresholding\n",
    "converted_hough_space = cv2.convertScaleAbs(hough_space)\n",
    "_, thresholded_hough_space = cv2.threshold(converted_hough_space,180,255,cv2.THRESH_BINARY)\n",
    "plt.imshow(thresholded_hough_space, origin='lower')\n",
    "\n",
    "\n",
    "tick_locs = [i for i in range(0,theta_dim,40)]\n",
    "tick_lbls = [round( (1.0 * i * theta_max) / theta_dim,1) for i in range(0,theta_dim,40)]\n",
    "plt.xticks(tick_locs, tick_lbls)\n",
    "\n",
    "tick_locs = [i for i in range(0,r_dim,20)]\n",
    "tick_lbls = [round( (1.0 * i * 2*r_max ) / r_dim,1) for i in range(0,r_dim,20)]\n",
    "plt.yticks(tick_locs, tick_lbls)\n",
    "\n",
    "plt.xlabel(r'$\\Theta$')\n",
    "plt.ylabel(r'$\\rho$')\n",
    "plt.title('Hough Space')\n",
    "\n",
    "plt.savefig(\"./images/thresholding_output.png\")\n",
    "plt.savefig(\"./images/thresholding_output.png\")\n",
    "\n",
    "plt.show()"
   ]
  },
  {
   "cell_type": "markdown",
   "metadata": {},
   "source": [
    "### Enlarging the size of the spots through morphological operators\n",
    "\n",
    "To identify the location of the local maxima, we will make use of find contours. However the spots in the image are too small to apply the opencv functions. That is why we are going to start by increasing their size through morphological operations. Have a look [here](https://docs.opencv.org/master/d9/d61/tutorial_py_morphological_ops.html) to see the different operators and their effect on a binary image. \n"
   ]
  },
  {
   "cell_type": "code",
   "execution_count": 17,
   "metadata": {
    "ExecuteTime": {
     "end_time": "2021-09-23T13:21:05.505201Z",
     "start_time": "2021-09-23T13:21:05.175413Z"
    },
    "execution": {
     "iopub.execute_input": "2024-09-15T10:59:01.599370Z",
     "iopub.status.busy": "2024-09-15T10:59:01.598570Z",
     "iopub.status.idle": "2024-09-15T10:59:01.730728Z",
     "shell.execute_reply": "2024-09-15T10:59:01.730227Z",
     "shell.execute_reply.started": "2024-09-15T10:59:01.599320Z"
    },
    "tags": []
   },
   "outputs": [
    {
     "data": {
      "image/png": "[encoded data removed]",
      "text/plain": [
       "<Figure size 432x288 with 1 Axes>"
      ]
     },
     "metadata": {
      "needs_background": "light"
     },
     "output_type": "display_data"
    }
   ],
   "source": [
    "kernel = np.ones((2,2),np.uint8)\n",
    "hough_maxima = cv2.dilate(thresholded_hough_space, kernel, iterations = 1)\n",
    "plt.imshow(hough_maxima, origin='lower')\n",
    "\n",
    "\n",
    "tick_locs = [i for i in range(0,theta_dim,40)]\n",
    "tick_lbls = [round( (1.0 * i * theta_max) / theta_dim,1) for i in range(0,theta_dim,40)]\n",
    "plt.xticks(tick_locs, tick_lbls)\n",
    "\n",
    "tick_locs = [i for i in range(0,r_dim,20)]\n",
    "tick_lbls = [round( (1.0 * i * 2*r_max ) / r_dim,1) for i in range(0,r_dim,20)]\n",
    "plt.yticks(tick_locs, tick_lbls)\n",
    "\n",
    "plt.xlabel(r'$\\Theta$')\n",
    "plt.ylabel(r'$\\rho$')\n",
    "plt.title('Hough Space')\n",
    "\n",
    "plt.savefig(\"./images/morphological_output.png\")\n"
   ]
  },
  {
   "cell_type": "markdown",
   "metadata": {},
   "source": [
    "### Identifying the Centroids' Locations Through Contours \n",
    "\n",
    "Now we have bigger spots and we are going to use Opencv's built in functions to find the contours and deduce the location of the centroid in the hough space. [An example is provided here](https://www.learnopencv.com/find-center-of-blob-centroid-using-opencv-cpp-python/). \n",
    "\n"
   ]
  },
  {
   "cell_type": "code",
   "execution_count": 18,
   "metadata": {
    "ExecuteTime": {
     "end_time": "2021-09-23T13:21:05.807767Z",
     "start_time": "2021-09-23T13:21:05.507131Z"
    },
    "execution": {
     "iopub.execute_input": "2024-09-15T10:59:04.811350Z",
     "iopub.status.busy": "2024-09-15T10:59:04.810628Z",
     "iopub.status.idle": "2024-09-15T10:59:04.943273Z",
     "shell.execute_reply": "2024-09-15T10:59:04.942734Z",
     "shell.execute_reply.started": "2024-09-15T10:59:04.811303Z"
    },
    "tags": []
   },
   "outputs": [
    {
     "data": {
      "image/png": "[encoded data removed]",
      "text/plain": [
       "<Figure size 432x288 with 1 Axes>"
      ]
     },
     "metadata": {
      "needs_background": "light"
     },
     "output_type": "display_data"
    }
   ],
   "source": [
    "# find contours in the binary image\n",
    "output = hough_maxima.copy()\n",
    "contours, hierarchy = cv2.findContours(hough_maxima,cv2.RETR_TREE,cv2.CHAIN_APPROX_SIMPLE)\n",
    "\n",
    "#Converting to color for the visualisation\n",
    "output = cv2.cvtColor(output,cv2.COLOR_GRAY2RGB) \n",
    "\n",
    "maxima_locs = []\n",
    "\n",
    "for c in contours:\n",
    "    # calculate moments for each contour\n",
    "    M = cv2.moments(c)\n",
    "\n",
    "    # calculate x, y coordinate of center\n",
    "    cX = int(M[\"m10\"] / M[\"m00\"])\n",
    "    cY = int(M[\"m01\"] / M[\"m00\"])\n",
    "    \n",
    "    maxima_locs.append((cX, cY))\n",
    "    cv2.circle(output, (cX, cY), 2, (255, 0, 0), -1)\n",
    "    \n",
    "# display the image\n",
    "plt.imshow(output, origin=\"lower\")\n",
    "\n",
    "\n",
    "tick_locs = [i for i in range(0,theta_dim,40)]\n",
    "tick_lbls = [round( (1.0 * i * theta_max) / theta_dim,1) for i in range(0,theta_dim,40)]\n",
    "plt.xticks(tick_locs, tick_lbls)\n",
    "\n",
    "tick_locs = [i for i in range(0,r_dim,20)]\n",
    "tick_lbls = [round( (1.0 * i * 2*r_max ) / r_dim,1) for i in range(0,r_dim,20)]\n",
    "plt.yticks(tick_locs, tick_lbls)\n",
    "\n",
    "plt.xlabel(r'$\\Theta$')\n",
    "plt.ylabel(r'$\\rho$')\n",
    "plt.title('Hough Space')\n",
    "\n",
    "plt.savefig(\"./images/centroid_output.png\")\n"
   ]
  },
  {
   "cell_type": "markdown",
   "metadata": {},
   "source": [
    "## Computing the location of the straight lines in the original image and drawing them"
   ]
  },
  {
   "cell_type": "markdown",
   "metadata": {},
   "source": [
    "With the maxima obtained, we can now compute the corresponding segments in the original image. You should get a result similar to this one. \n",
    "\n",
    "\n",
    "<br/>\n",
    "\n",
    "![Pentagon](images/hough_transform.png)\n",
    "\n",
    "<br/>\n"
   ]
  },
  {
   "cell_type": "markdown",
   "metadata": {},
   "source": [
    "<span style=\"color: #2980B9 ;\">\n",
    "Here is a graphical method for deriving the same equations. \n",
    "\n",
    "![draw a line](images/draw_a_line.jpeg)<br>\n",
    "    \n",
    "Keep in mind that 'i' represents a parameter used to iterate along the line, not the y-coordinate."
   ]
  },
  {
   "cell_type": "code",
   "execution_count": 19,
   "metadata": {
    "ExecuteTime": {
     "end_time": "2021-09-23T13:21:06.105427Z",
     "start_time": "2021-09-23T13:21:05.809546Z"
    },
    "execution": {
     "iopub.execute_input": "2024-09-15T10:59:14.660327Z",
     "iopub.status.busy": "2024-09-15T10:59:14.659576Z",
     "iopub.status.idle": "2024-09-15T10:59:14.790304Z",
     "shell.execute_reply": "2024-09-15T10:59:14.789882Z",
     "shell.execute_reply.started": "2024-09-15T10:59:14.660276Z"
    },
    "tags": []
   },
   "outputs": [
    {
     "data": {
      "image/png": "[encoded data removed]",
      "text/plain": [
       "<Figure size 432x288 with 1 Axes>"
      ]
     },
     "metadata": {
      "needs_background": "light"
     },
     "output_type": "display_data"
    }
   ],
   "source": [
    "fig, ax = plt.subplots()\n",
    "ax.imshow(img)\n",
    "ax.autoscale(False)\n",
    "for (j,i) in maxima_locs:\n",
    "\n",
    "    # the r index is calculated as: ir = int(r_dim * (r + r_max) / (2 * r_max)) # calculate the index of rho\n",
    " \n",
    "    # so we can calculate r as: r = round((2* r_max/ r_dim) * (i-r_dim/2))\n",
    "\n",
    "    r= round((2* r_max/ r_dim) * (i - r_dim/2))\n",
    "\n",
    "\n",
    "    theta = round( (1.0 * j * theta_max) / theta_dim,1)\n",
    "    px = []\n",
    "    py = []\n",
    "    \n",
    "    for i in range(-y_max-40,y_max+40,1):\n",
    "        px.append( math.cos(-theta) * i - math.sin(-theta) * r ) \n",
    "        py.append( math.sin(-theta) * i + math.cos(-theta) * r )\n",
    "\n",
    "    ax.plot(px,py, linewidth=1, color=\"r\")\n",
    "\n",
    "plt.savefig(\"./images/hough_transform.png\")\n",
    "\n",
    "plt.show()"
   ]
  },
  {
   "cell_type": "markdown",
   "metadata": {},
   "source": [
    "# Quiz Corrections\n",
    "See the attached file: **quiz_correction.pdf** (in the same folder)."
   ]
  }
 ],
 "metadata": {
  "hide_input": false,
  "kernelspec": {
   "display_name": "Python 3 (ipykernel)",
   "language": "python",
   "name": "python3"
  },
  "language_info": {
   "codemirror_mode": {
    "name": "ipython",
    "version": 3
   },
   "file_extension": ".py",
   "mimetype": "text/x-python",
   "name": "python",
   "nbconvert_exporter": "python",
   "pygments_lexer": "ipython3",
   "version": "3.9.12"
  },
  "toc": {
   "base_numbering": 1,
   "nav_menu": {},
   "number_sections": true,
   "sideBar": true,
   "skip_h1_title": false,
   "title_cell": "Table of Contents",
   "title_sidebar": "Contents",
   "toc_cell": true,
   "toc_position": {
    "height": "calc(100% - 180px)",
    "left": "10px",
    "top": "150px",
    "width": "277px"
   },
   "toc_section_display": true,
   "toc_window_display": true
  }
 },
 "nbformat": 4,
 "nbformat_minor": 4
}
